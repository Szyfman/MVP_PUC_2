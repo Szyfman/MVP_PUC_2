{
 "cells": [
  {
   "cell_type": "markdown",
   "id": "28e69b8e",
   "metadata": {},
   "source": [
    "# **Introdução: Análise de Atrasos em Voos nos EUA**\n",
    "\n",
    "Neste projeto, vamos analisar os **atrasos de voos** nos Estados Unidos, utilizando dados provenientes do **Kaggle**. O conjunto de dados original contém informações sobre os voos, incluindo dados sobre **atrasos de chegada** e **decolagem**, **companhias aéreas**, **aeroportos de origem e destino**, e **informações sobre o voo**.\n",
    "\n",
    "A proposta é construir um pipeline de dados utilizando tecnologias na nuvem. O pipeline irá envolver a busca, coleta, modelagem, carga e análise dos dados."
   ]
  },
  {
   "cell_type": "markdown",
   "id": "64272e67",
   "metadata": {},
   "source": [
    "### **Fontes dos Dados**:\n",
    "Os dados utilizados neste projeto foram extraídos de Kaggle e incluem os seguintes arquivos:\n",
    "- **`flights.csv`**: Contém informações sobre os voos, incluindo os atrasos.\n",
    "- **`airlines.csv`**: Contém informações sobre as companhias aéreas.\n",
    "- **`airports.csv`**: Contém informações sobre os aeroportos de origem e destino.\n",
    "\n",
    "Esses dados foram carregados no **Databricks File System (DBFS)** e foram processados utilizando a plataforma Databricks para realizar **transformações e análises**.\n",
    "\n",
    "### **Objetivo**:\n",
    "O objetivo deste projeto é realizar uma análise exploratória sobre os **atrasos de voos**, utilizando os dados das três tabelas mencionadas."
   ]
  },
  {
   "cell_type": "markdown",
   "id": "e6c368ae",
   "metadata": {},
   "source": [
    "## **Perguntas de Negócio**\n",
    "- Quais companhias aéreas apresentam maior proporção de voos com atraso?\n",
    "- Qual é o percentual de voos cancelados por companhia aérea?\n",
    "- A distância ou o tempo de voo influenciam o atraso na chegada?\n",
    "- Quais aeroportos concentram mais atrasos na decolagem e/ou chegada?\n",
    "\n",
    "Essas perguntas guiarão tanto a análise exploratória quanto a modelagem preditiva, contribuindo para a identificação de padrões relevantes que expliquem os atrasos nos voos."
   ]
  },
  {
   "cell_type": "markdown",
   "id": "bd90e979",
   "metadata": {},
   "source": [
    "# **Execução em Nuvem**\n",
    "\n",
    "Nessa seção documentaremos o passo a passo executado em nuvem no Databricks para fazer nossa análise."
   ]
  },
  {
   "cell_type": "markdown",
   "id": "d2b2989f",
   "metadata": {},
   "source": [
    "## **Coleta de Dados**\n",
    "\n",
    "Para este projeto, o dataset **2015 Flight Delays and Cancellations** foi carregado diretamente para o **Databricks File System (DBFS)**. O arquivo foi baixado do Kaggle e armazenado no DBFS para ser utilizado nas etapas de processamento e análise."
   ]
  },
  {
   "cell_type": "markdown",
   "id": "6bcfc857",
   "metadata": {},
   "source": [
    "### **Tabela Fato**\n",
    "\n",
    "O código abaixo mostra como a **Tabela Fato**, o arquivo **`flights-1.csv`** foi carregado para ser utilizado no projeto."
   ]
  },
  {
   "cell_type": "markdown",
   "id": "89c072bc",
   "metadata": {},
   "source": [
    "![Dados Carregados](Evidence/2_dataset_loaded.png)\n"
   ]
  },
  {
   "cell_type": "markdown",
   "id": "d26a94a6",
   "metadata": {},
   "source": [
    "### **Tabelas Dimensão**\n",
    "\n",
    "O código abaixo mostra como as **Tabelas Dimensão**, os arquivos **`airports-1.csv`** e **`airlines-1.csv`** foram carregadas para serem utilizadas no projeto."
   ]
  },
  {
   "cell_type": "markdown",
   "id": "cbf816d3",
   "metadata": {},
   "source": [
    "![Data Loaded](Evidence/2_dimension_tables_loaded.png)"
   ]
  },
  {
   "cell_type": "markdown",
   "metadata": {},
   "source": [
    "## **Modelagem de Dados**\n",
    "\n",
    "Para garantir que os dados possam ser processados de maneira eficiente no Databricks, convertemos o dataset para o formato **Delta Lake**. O Delta Lake oferece suporte a transações ACID e otimiza as operações de leitura e escrita.\n",
    "\n",
    "O código abaixo converte o dataset para o formato Delta e o armazena como uma tabela Delta no Databricks:\n",
    "\n",
    "```python\n",
    "# Converter o dataframe para Delta Lake\n",
    "df1.write.format(\"delta\").saveAsTable(\"flights_delta_table\")\n"
   ]
  },
  {
   "cell_type": "markdown",
   "metadata": {},
   "source": [
    "![Transformado em Tabela](Evidence/3_transform_into_table.png)"
   ]
  },
  {
   "cell_type": "markdown",
   "id": "977c10a1",
   "metadata": {},
   "source": [
    "## **ETL (Extração, Transformação e Carga de Dados)**\n",
    "\n",
    "Nesta etapa, realizamos a **transformação** dos dados.\n"
   ]
  },
  {
   "cell_type": "markdown",
   "id": "46966920",
   "metadata": {},
   "source": [
    "### **Calculando Atrasos por companhia aérea**\n",
    "\n",
    "O código executado para calcular a proporção de atrasos por companhia aérea pode ser visto no print abaixo, onde a **proporção de voos com atraso** por **companhia aérea** foi calculada."
   ]
  },
  {
   "cell_type": "markdown",
   "id": "0a4d181c",
   "metadata": {},
   "source": [
    "![FIRST](Evidence/1_ETL.png)"
   ]
  },
  {
   "cell_type": "markdown",
   "id": "7b003faf",
   "metadata": {},
   "source": [
    "### **Atrasos por Aeroporto**\n",
    "\n",
    "Nesta etapa, analisamos os **atrasos por aeroporto**, tanto no **aeroporto de origem** quanto no **aeroporto de destino**. Para isso, filtramos os voos com atraso tanto na **decolagem** quanto na **chegada**, e realizamos uma contagem dos voos atrasados por cada aeroporto.\n",
    "\n",
    "O código executado para calcular os **atrasos por aeroporto de origem** e **atrasos por aeroporto de destino** pode ser visto abaixo, onde os voos com atraso na **decolagem** são contados para o **aeroporto de origem** e os voos com atraso na **chegada** são contados para o **aeroporto de destino**.\n"
   ]
  },
  {
   "cell_type": "markdown",
   "id": "2a4f55c4",
   "metadata": {},
   "source": [
    "![SECOND](Evidence/2_ETL.png)"
   ]
  },
  {
   "cell_type": "markdown",
   "id": "f3bbd33d",
   "metadata": {},
   "source": [
    "### **Influência da Distância e Tempo de Voo no Atraso**\n",
    "\n",
    "Nesta etapa, buscamos entender como a **distância** e o **tempo de voo** afetam os **atrasos na chegada** dos voos. Para isso, realizamos o cálculo da **correlação** entre **`DISTANCE`** (distância do voo), **`AIR_TIME`** (tempo de voo) e **`ARRIVAL_DELAY`** (atraso na chegada).\n",
    "\n",
    "Primeiro, garantimos que as colunas envolvidas na correlação fossem **numéricas**. Para isso, utilizamos a função **`cast(\"float\")`** para converter as colunas **`DISTANCE`**, **`AIR_TIME`** e **`ARRIVAL_DELAY`** para **tipos numéricos**. Depois, calculamos a **correlação** entre essas variáveis.\n",
    "\n",
    "O código executado para calcular as correlações pode ser visto abaixo."
   ]
  },
  {
   "cell_type": "markdown",
   "id": "5f1d10fd",
   "metadata": {},
   "source": [
    "![THIRD](Evidence/3_ETL.png)"
   ]
  },
  {
   "cell_type": "markdown",
   "metadata": {},
   "source": [
    "### **Percentual de Voos Cancelados por Companhia Aérea**\n",
    "\n",
    "Nesta etapa, calculamos o **percentual de voos cancelados** por **companhia aérea**. Para isso, primeiro filtramos os voos **cancelados** e contamos o número de voos cancelados por **companhia aérea**. Em seguida, calculamos o **percentual de cancelamento** dividindo o número de voos cancelados pelo número total de voos de cada **companhia aérea**.\n",
    "\n",
    "O código executado para calcular o percentual de voos cancelados por companhia aérea pode ser visto abaixo."
   ]
  },
  {
   "cell_type": "markdown",
   "id": "1c40f86e",
   "metadata": {},
   "source": [
    "![FORTH](Evidence/4_ETL.png)"
   ]
  },
  {
   "cell_type": "markdown",
   "id": "7f86188d",
   "metadata": {},
   "source": [
    "### **Salvamento dos Dados Transformados no Delta Lake**\n",
    "\n",
    "Após a execução das transformações necessárias (como cálculo de **proporção de atrasos por companhia aérea**, **atrasos por aeroporto**, **percentual de voos cancelados**, etc.), os dados transformados foram **salvos no Delta Lake**.\n",
    "\n",
    "A etapa de **carga dos dados** é uma parte importante do processo de ETL, garantindo que as transformações realizadas sejam persistidas e possam ser consultadas posteriormente."
   ]
  },
  {
   "cell_type": "markdown",
   "id": "9d4ec201",
   "metadata": {},
   "source": [
    "#### **Código Executado**:\n",
    "O **DataFrame final** contendo todas as transformações foi salvo no **Delta Lake** com o seguinte código"
   ]
  },
  {
   "cell_type": "markdown",
   "id": "4dac9ddd",
   "metadata": {},
   "source": []
  },
  {
   "cell_type": "markdown",
   "id": "40df5d11",
   "metadata": {},
   "source": []
  },
  {
   "cell_type": "markdown",
   "id": "7314488f",
   "metadata": {},
   "source": [
    "<!-- ![](Evidence/.png) -->"
   ]
  },
  {
   "cell_type": "markdown",
   "id": "bd5497cd",
   "metadata": {},
   "source": [
    "# Projeto de MVP: Análise de Atrasos de Voos nos EUA (2015)\n",
    "\n",
    "Este projeto tem como objetivo construir um **pipeline de dados na nuvem** utilizando a plataforma **Databricks Community Edition**. O foco é realizar a **coleta**, **armazenamento**, **modelagem**, **carga** e **análise de dados** relacionados a **atrasos e cancelamentos de voos** nos EUA no ano de 2015.\n",
    "\n",
    "## Objetivos do Projeto\n",
    "\n",
    "O objetivo principal do projeto é analisar os fatores que afetam os **atrasos de voos** nos Estados Unidos e determinar as principais **causas** e **impactos** desses atrasos. Para isso, buscamos responder às seguintes perguntas de negócio:\n",
    "\n",
    "- Quais são os principais fatores que causam atrasos em voos nos EUA?\n",
    "- Existe uma correlação entre o clima e o atraso dos voos?\n",
    "- Quais aeroportos têm a maior taxa de cancelamentos de voos?\n",
    "\n",
    "## Estrutura do Notebook\n",
    "\n",
    "Este notebook está estruturado da seguinte forma:\n",
    "\n",
    "1. **Coleta de Dados**: O dataset utilizado é o **\"2015 Flight Delays and Cancellations\"**, obtido do **Kaggle** e carregado para o **Databricks File System (DBFS)**. O arquivo será utilizado para análise.\n",
    "   \n",
    "2. **Modelagem de Dados**: Utilizaremos o **Delta Lake** como modelo de dados, o que permitirá a manipulação eficiente dos dados em Databricks.\n",
    "   \n",
    "3. **ETL**: A transformação dos dados será realizada em uma pipeline **ETL** simples, onde dados serão limpos e preparados para análise.\n",
    "   \n",
    "4. **Análise de Dados**: Utilizaremos ferramentas como **Pandas**, **PySpark**, **Matplotlib** e **Seaborn** para realizar a análise exploratória dos dados e responder às perguntas definidas.\n",
    "\n",
    "5. **Conclusão**: Discussão sobre os resultados obtidos e próximos passos para melhorar a análise de dados.\n",
    "\n",
    "## Ferramentas Utilizadas\n",
    "\n",
    "- **Databricks Community Edition**: Plataforma de nuvem utilizada para todas as etapas do projeto.\n",
    "- **Delta Lake**: Solução para armazenamento e processamento eficiente de dados em Databricks.\n",
    "- **PySpark** e **Pandas**: Ferramentas para processamento e análise de dados.\n",
    "- **Matplotlib** e **Seaborn**: Bibliotecas para visualização de dados.\n",
    "\n",
    "\n",
    "## Acesso ao Notebook\n",
    "\n",
    "O notebook completo está disponível para visualização e execução no **Databricks Community Edition**. Para acessar e executar o código, basta importar o notebook para sua conta no Databricks.\n",
    "\n"
   ]
  }
 ],
 "metadata": {
  "language_info": {
   "name": "python"
  }
 },
 "nbformat": 4,
 "nbformat_minor": 5
}
