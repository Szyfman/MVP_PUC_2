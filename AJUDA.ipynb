{
 "cells": [
  {
   "cell_type": "markdown",
   "id": "28e69b8e",
   "metadata": {},
   "source": [
    "# **Introdução: Análise de Atrasos em Voos nos EUA**\n",
    "\n",
    "Neste projeto, vou analisar os **atrasos de voos** nos Estados Unidos, utilizando dados provenientes do **Kaggle**. O conjunto de dados original contém informações sobre os voos, incluindo dados sobre **atrasos de chegada** e **decolagem**, **companhias aéreas**, **aeroportos de origem e destino**, e **informações sobre o voo**.\n",
    "\n",
    "A proposta é construir um pipeline de dados utilizando tecnologias na nuvem. O pipeline irá envolver a busca, coleta, modelagem, carga e análise dos dados."
   ]
  },
  {
   "cell_type": "markdown",
   "id": "64272e67",
   "metadata": {},
   "source": [
    "### **Fontes dos Dados**:\n",
    "Os dados utilizados neste projeto foram extraídos de Kaggle e incluem os seguintes arquivos:\n",
    "- **`flights.csv`**: Contém informações sobre os voos, incluindo os atrasos.\n",
    "- **`airlines.csv`**: Contém informações sobre as companhias aéreas.\n",
    "- **`airports.csv`**: Contém informações sobre os aeroportos de origem e destino.\n",
    "\n",
    "Esses dados foram carregados no **Databricks File System (DBFS)** e foram processados utilizando a plataforma Databricks para realizar **transformações e análises**.\n",
    "\n",
    "### **Objetivo**:\n",
    "O objetivo deste projeto é realizar uma análise exploratória sobre os **atrasos de voos**, utilizando os dados das três tabelas mencionadas."
   ]
  },
  {
   "cell_type": "markdown",
   "id": "e6c368ae",
   "metadata": {},
   "source": [
    "## **Perguntas de Negócio**\n",
    "- Quais companhias aéreas apresentam maior proporção de voos com atraso?\n",
    "- Qual é o percentual de voos cancelados por companhia aérea?\n",
    "- A distância ou o tempo de voo influenciam o atraso na chegada?\n",
    "- Quais aeroportos concentram mais atrasos na decolagem e/ou chegada?\n",
    "\n",
    "Essas perguntas guiarão tanto a análise exploratória quanto a modelagem preditiva, contribuindo para a identificação de padrões relevantes que expliquem os atrasos nos voos."
   ]
  },
  {
   "cell_type": "markdown",
   "id": "bd90e979",
   "metadata": {},
   "source": [
    "# **Execução em Nuvem**\n",
    "\n",
    "Nessa seção documentarei o passo a passo executado em nuvem no Databricks para fazer a análise."
   ]
  },
  {
   "cell_type": "markdown",
   "id": "d2b2989f",
   "metadata": {},
   "source": [
    "## **Coleta de Dados**\n",
    "\n",
    "Para este projeto, o dataset **2015 Flight Delays and Cancellations** foi carregado diretamente para o **Databricks File System (DBFS)**. O arquivo foi baixado do Kaggle e armazenado no DBFS para ser utilizado nas etapas de processamento e análise."
   ]
  },
  {
   "cell_type": "markdown",
   "id": "6bcfc857",
   "metadata": {},
   "source": [
    "### **Tabela Fato**\n",
    "\n",
    "O código abaixo mostra como a **Tabela Fato**, o arquivo `flights-1.csv` foi carregado para ser utilizado no projeto."
   ]
  },
  {
   "cell_type": "markdown",
   "id": "89c072bc",
   "metadata": {},
   "source": [
    "![Dados Carregados](Evidence/2_dataset_loaded.png)\n"
   ]
  },
  {
   "cell_type": "markdown",
   "id": "d26a94a6",
   "metadata": {},
   "source": [
    "### **Tabelas Dimensão**\n",
    "\n",
    "O código abaixo mostra como as **Tabelas Dimensão**, os arquivos`airports-1.csv` e `airlines-1.csv` foram carregadas para serem utilizadas no projeto."
   ]
  },
  {
   "cell_type": "markdown",
   "id": "cbf816d3",
   "metadata": {},
   "source": [
    "![Data Loaded](Evidence/2_dimension_tables_loaded.png)"
   ]
  },
  {
   "cell_type": "markdown",
   "id": "500e3cc3",
   "metadata": {},
   "source": [
    "## **ETL (Extração, Transformação e Carga de Dados)**\n",
    "\n",
    "Na seção de ETL, realizei as transformações dos dados para prepará-los para a análise. Comecei com a limpeza e a junção das tabelas de aeroportos e companhias aéreas com a Tabela Fato. A seguir, apliquei as transformações necessárias para responder às perguntas de negócio, como calcular a proporção de voos com atraso por companhia aérea, os atrasos por aeroporto, e a influência da distância e do tempo de voo nos atrasos.\n"
   ]
  },
  {
   "cell_type": "markdown",
   "id": "6b150dbc",
   "metadata": {},
   "source": [
    "\n",
    "### **Limpeza dos dados e junção das tabelas**\n",
    "\n",
    "Iniciei com a limpeza dos dados, removendo espaços em branco das colunas de junção, e então preparei as tabelas dimensionais. Realizei a união entre as tabelas de aeroportos e companhias aéreas, e a Tabela Fato, conforme os critérios definidos.\n",
    "\n",
    "O código a seguir faz a limpeza e a junção das tabelas de aeroportos e companhias aéreas com a Tabela Fato."
   ]
  },
  {
   "cell_type": "markdown",
   "id": "0b2e56e5",
   "metadata": {},
   "source": [
    "![limpeza](Evidence/limpeza.png)"
   ]
  },
  {
   "cell_type": "markdown",
   "id": "46966920",
   "metadata": {},
   "source": [
    "### **Calculando Atrasos por companhia aérea**\n",
    "\n",
    "O código executado para calcular a proporção de atrasos por companhia aérea pode ser visto no print abaixo, onde a **proporção de voos com atraso** por **companhia aérea** foi calculada."
   ]
  },
  {
   "cell_type": "markdown",
   "id": "fbd256ab",
   "metadata": {},
   "source": [
    "![atraso_companhia](Evidence/atraso_companhia.png)"
   ]
  },
  {
   "cell_type": "markdown",
   "id": "7b003faf",
   "metadata": {},
   "source": [
    "### **Atrasos por Aeroporto**\n",
    "\n",
    "Nesta etapa, analisei os **atrasos por aeroporto**, tanto no **aeroporto de origem** quanto no **aeroporto de destino**. Para isso, filtrei os voos com atraso tanto na **decolagem** quanto na **chegada**, e realizei uma contagem dos voos atrasados por cada aeroporto.\n",
    "\n",
    "O código executado para calcular os **atrasos por aeroporto de origem** e **atrasos por aeroporto de destino** pode ser visto abaixo, onde os voos com atraso na **decolagem** são contados para o **aeroporto de origem** e os voos com atraso na **chegada** são contados para o **aeroporto de destino**.\n"
   ]
  },
  {
   "cell_type": "markdown",
   "id": "c4e3b8cd",
   "metadata": {},
   "source": [
    "![atraso_aeroporto](Evidence/atraso_aeroporto.png)"
   ]
  },
  {
   "cell_type": "markdown",
   "id": "f3bbd33d",
   "metadata": {},
   "source": [
    "### **Influência da Distância e Tempo de Voo no Atraso**\n",
    "\n",
    "Nesta etapa, buscamos entender como a **distância** e o **tempo de voo** afetam os **atrasos na chegada** dos voos. Para isso, realizei o cálculo da **correlação** entre **`DISTANCE`** (distância do voo), **`AIR_TIME`** (tempo de voo) e **`ARRIVAL_DELAY`** (atraso na chegada).\n",
    "\n",
    "Primeiro, garanti que as colunas envolvidas na correlação fossem **numéricas**. Para isso, utilizei a função **`cast(\"float\")`** para converter as colunas **`DISTANCE`**, **`AIR_TIME`** e **`ARRIVAL_DELAY`** para **tipos numéricos**. Depois, calculamos a **correlação** entre essas variáveis.\n",
    "\n",
    "O código executado para calcular as correlações pode ser visto abaixo."
   ]
  },
  {
   "cell_type": "markdown",
   "id": "86f4ccc4",
   "metadata": {},
   "source": [
    "![influencia](Evidence/influencia.png)"
   ]
  },
  {
   "cell_type": "markdown",
   "id": "a516cba7",
   "metadata": {},
   "source": [
    "### **Percentual de Voos Cancelados por Companhia Aérea**\n",
    "\n",
    "Nesta etapa, calculei o **percentual de voos cancelados** por **companhia aérea**. Para isso, primeiro filtrei os voos **cancelados** e contei o número de voos cancelados por **companhia aérea**. Em seguida, calculei o **percentual de cancelamento** dividindo o número de voos cancelados pelo número total de voos de cada **companhia aérea**.\n",
    "\n",
    "O código executado para calcular o percentual de voos cancelados por companhia aérea pode ser visto abaixo."
   ]
  },
  {
   "cell_type": "markdown",
   "id": "a80dac36",
   "metadata": {},
   "source": [
    "![perentual_companhia](Evidence/percentual_companhia.png)"
   ]
  },
  {
   "cell_type": "markdown",
   "id": "76fb66c2",
   "metadata": {},
   "source": [
    "## **Catálogo de Dados**\n",
    "\n",
    "O catálogo de dados descreve as colunas, os tipos de dados e os valores possíveis nas tabelas que compõem o Data Lake do projeto. Abaixo estão os detalhes das tabelas e colunas com dados reais extraídos e transformados.\n"
   ]
  },
  {
   "cell_type": "markdown",
   "id": "d60bccdb",
   "metadata": {},
   "source": [
    "\n",
    "### **Colunas Presentes**\n"
   ]
  },
  {
   "cell_type": "markdown",
   "id": "7a7481cc",
   "metadata": {},
   "source": [
    "![catalogo1](Evidence/catalogo_1.png)"
   ]
  },
  {
   "cell_type": "markdown",
   "id": "e9d093f0",
   "metadata": {},
   "source": [
    "### **Capturando valores máximos e mínimos**"
   ]
  },
  {
   "cell_type": "markdown",
   "id": "9918e4a9",
   "metadata": {},
   "source": [
    "![catalogo2](Evidence/catalogo_2.png)"
   ]
  },
  {
   "cell_type": "markdown",
   "id": "35465ba1",
   "metadata": {},
   "source": [
    "### **Exibindo colunas categoricas**"
   ]
  },
  {
   "cell_type": "markdown",
   "id": "f58b8a10",
   "metadata": {},
   "source": [
    "![catalogo3](Evidence/catalogo_3.png)"
   ]
  },
  {
   "cell_type": "markdown",
   "id": "5dd5c4cd",
   "metadata": {},
   "source": [
    "### **Catálogo de Dados Completo**"
   ]
  },
  {
   "cell_type": "markdown",
   "id": "1027176a",
   "metadata": {},
   "source": [
    "\n",
    "| Coluna                      | Tipo de Dados | Descrição                                                                                        | Exemplos                          | Valores Mínimos e Máximos               | Categorias Possíveis                   |\n",
    "|-----------------------------|---------------|--------------------------------------------------------------------------------------------------|-----------------------------------|------------------------------------------|-----------------------------------------|\n",
    "| `YEAR`                       | String        | Ano do voo.                                                                                        | 2015                              | Mínimo: 2015, Máximo: 2021               | Não se aplica                           |\n",
    "| `MONTH`                      | String        | Mês do voo.                                                                                       | 1, 2, 3                           | Mínimo: 1, Máximo: 12                    | Não se aplica                           |\n",
    "| `DAY`                        | String        | Dia do mês.                                                                                        | 1, 2, 3                           | Mínimo: 1, Máximo: 31                    | Não se aplica                           |\n",
    "| `DAY_OF_WEEK`                | String        | Dia da semana em formato numérico (1=Domingo, 7=Sábado).                                           | 4                                 | 1 - 7                                    | Não se aplica                           |\n",
    "| `AIRLINE`                    | String        | Código da companhia aérea.                                                                         | UA, NK, AA, etc.                  | Não aplicável                           | Códigos das companhias aéreas           |\n",
    "| `FLIGHT_NUMBER`              | String        | Número do voo.                                                                                   | 98, 2336, 840                     | Não aplicável                           | Não se aplica                           |\n",
    "| `TAIL_NUMBER`                | String        | Número da aeronave.                                                                                | N407AS, N3KUAA                    | Não aplicável                           | Não se aplica                           |\n",
    "| `ORIGIN_AIRPORT`             | String        | Código do aeroporto de origem.                                                                    | ANC, LAX, SFO                     | Não aplicável                           | Códigos de aeroporto (IATA)            |\n",
    "| `DESTINATION_AIRPORT`        | String        | Código do aeroporto de destino.                                                                   | SEA, PBI, CLT                     | Não aplicável                           | Códigos de aeroporto (IATA)            |\n",
    "| `SCHEDULED_DEPARTURE`        | String        | Hora programada de partida.                                                                       | 0005, 0010, 0020                  | Não aplicável                           | Não se aplica                           |\n",
    "| `DEPARTURE_TIME`             | String        | Hora real de partida.                                                                             | 2354, 0002, 0018                  | Não aplicável                           | Não se aplica                           |\n",
    "| `DEPARTURE_DELAY`            | String        | Atraso na partida (em minutos).                                                                   | -11, -8, -2                       | Mínimo: -60, Máximo: 1000               | Não se aplica                           |\n",
    "| `TAXI_OUT`                   | String        | Tempo de táxi até a decolagem (em minutos).                                                       | 1, 99                             | Mínimo: 0, Máximo: 180                  | Não se aplica                           |\n",
    "| `WHEELS_OFF`                 | String        | Hora em que a aeronave decola.                                                                    | 0015, 0014, 0034                  | Não aplicável                           | Não se aplica                           |\n",
    "| `SCHEDULED_TIME`             | String        | Tempo programado de voo (em minutos).                                                             | 100, 99, 120                      | Mínimo: 30, Máximo: 1500                | Não se aplica                           |\n",
    "| `ELAPSED_TIME`               | String        | Tempo total de voo (em minutos).                                                                  | 194, 279, 293                     | Mínimo: 30, Máximo: 1500                | Não se aplica                           |\n",
    "| `AIR_TIME`                   | Float         | Tempo real de voo (em minutos).                                                                   | 169.0                             | Mínimo: 10, Máximo: 1500                | Não se aplica                           |\n",
    "| `DISTANCE`                   | Float         | Distância percorrida (em milhas).                                                                  | 1448.0, 2330.0, 2296.0            | Mínimo: 100, Máximo: 3000               | Não se aplica                           |\n",
    "| `WHEELS_ON`                  | String        | Hora em que a aeronave aterrissa.                                                                 | 0404, 0737, 0800                  | Não aplicável                           | Não se aplica                           |\n",
    "| `TAXI_IN`                    | String        | Tempo de táxi após a aterrissagem (em minutos).                                                   | 4, 8, 11                          | Mínimo: 0, Máximo: 60                   | Não se aplica                           |\n",
    "| `SCHEDULED_ARRIVAL`          | String        | Hora programada de chegada.                                                                       | 0430, 0750, 0806                  | Não aplicável                           | Não se aplica                           |\n",
    "| `ARRIVAL_TIME`               | String        | Hora real de chegada.                                                                             | 0408, 0741, 0811                  | Não aplicável                           | Não se aplica                           |\n",
    "| `ARRIVAL_DELAY`              | Float         | Atraso na chegada (em minutos).                                                                   | -22.0, -9.0, 5.0                  | Mínimo: -60, Máximo: 1000               | Não se aplica                           |\n",
    "| `DIVERTED`                   | String        | Indica se o voo foi desviado (0=Não, 1=Sim).                                                      | 0, 1                              | Não aplicável                           | 0, 1                                     |\n",
    "| `CANCELLED`                  | String        | Indica se o voo foi cancelado (0=Não, 1=Sim).                                                     | 0, 1                              | Não aplicável                           | 0, 1                                     |\n",
    "| `CANCELLATION_REASON`        | String        | Razão do cancelamento (se aplicável).                                                             | null                              | Não aplicável                           | Não se aplica                           |\n",
    "| `AIR_SYSTEM_DELAY`           | String        | Atraso devido ao sistema aéreo (em minutos).                                                      | null                              | Mínimo: 0, Máximo: 120                  | Não se aplica                           |\n",
    "| `SECURITY_DELAY`             | String        | Atraso devido a questões de segurança (em minutos).                                               | null                              | Mínimo: 0, Máximo: 120                  | Não se aplica                           |\n",
    "| `AIRLINE_DELAY`              | String        | Atraso devido à companhia aérea (em minutos).                                                     | null                              | Mínimo: 0, Máximo: 120                  | Não se aplica                           |\n",
    "| `LATE_AIRCRAFT_DELAY`        | String        | Atraso devido a aeronave atrasada (em minutos).                                                   | null                              | Mínimo: 0, Máximo: 120                  | Não se aplica                           |\n",
    "| `WEATHER_DELAY`              | String        | Atraso devido ao clima (em minutos).                                                             | null                              | Mínimo: 0, Máximo: 120                  | Não se aplica                           |\n",
    "| `ORIGIN_AIRPORT_NAME`        | String        | Nome do aeroporto de origem.                                                                      | Ted Stevens Anchorage, LAX         | Não aplicável                           | Nomes de aeroportos                     |\n",
    "| `DESTINATION_AIRPORT_NAME`   | String        | Nome do aeroporto de destino.                                                                     | Seattle-Tacoma, Palm Beach Intl    | Não aplicável                           | Nomes de aeroportos                     |\n",
    "| `AIRLINE_NAME`               | String        | Nome da companhia aérea.                                                                          | Alaska Airlines Inc., American Airlines Inc. | Não aplicável                   | Nomes das companhias aéreas             |"
   ]
  },
  {
   "cell_type": "markdown",
   "id": "7f86188d",
   "metadata": {},
   "source": [
    "### **Salvamento dos Dados Transformados no Delta Lake**\n",
    "\n",
    "Após a execução das transformações necessárias (como cálculo de **proporção de atrasos por companhia aérea**, **atrasos por aeroporto**, **percentual de voos cancelados**, etc.), os dados transformados foram **salvos no Delta Lake**.\n",
    "\n",
    "A etapa de **carga dos dados** é uma parte importante do processo de ETL, garantindo que as transformações realizadas sejam persistidas e possam ser consultadas posteriormente."
   ]
  },
  {
   "cell_type": "markdown",
   "metadata": {},
   "source": [
    "## **Modelagem de Dados**\n",
    "\n",
    "Nessa etapa, iremos estruturar os dados para análise utilizando um **Data Lake**, incorporando tanto a **Tabela Fato** quanto as **Tabelas Dimensão**."
   ]
  },
  {
   "cell_type": "markdown",
   "id": "893d7717",
   "metadata": {},
   "source": [
    "### **Unificando Tabelas**\n",
    "\n",
    "Nessa etapa, unimos a Tabela Fato com as Tabelas Dimensão para estruturar o modelo de dados. Utilizamos a tabela de voos `flights-1.csv` como nossa Tabela Fato e as tabelas `airports.csv` e `airlines.csv` como Tabelas Dimensão. O objetivo é agregar informações de aeroportos e companhias aéreas aos dados de voos para análise.\n",
    "\n",
    "As transformações realizadas são:\n",
    "\n",
    "- A união da Tabela Fato `df1` com a tabela `airports_df`, associando os aeroportos de origem e destino aos voos.\n",
    "- A união da Tabela Fato `df1` com a tabela `airlines_df`, associando as companhias aéreas aos voos."
   ]
  },
  {
   "cell_type": "markdown",
   "metadata": {},
   "source": [
    "### **Conversão para Delta Lake**\n",
    "\n",
    "Após a integração das tabelas, o próximo passo é converter o DataFrame resultante para o formato Delta. O Delta Lake proporciona suporte a transações ACID, o que melhora o gerenciamento de dados, garantindo consistência e facilitando operações de leitura e escrita.\n",
    "\n",
    "O código abaixo converte o DataFrame `df1` para o formato Delta e o armazena como uma tabela Delta no Databricks."
   ]
  },
  {
   "cell_type": "markdown",
   "id": "a15f1a62",
   "metadata": {},
   "source": [
    "![DataLake](Evidence/4_data_lake.png)"
   ]
  },
  {
   "cell_type": "markdown",
   "id": "93839b55",
   "metadata": {},
   "source": [
    "### **Verificação da Tabela no Delta Lake**\n",
    "\n",
    "Após a execução do comando para salvar o DataFrame como uma tabela Delta, a tabela `flights_delta_table` foi criada com sucesso. Para garantir que a tabela foi armazenada corretamente, foi realizada uma consulta para visualizar as primeiras linhas dos dados:\n"
   ]
  },
  {
   "cell_type": "markdown",
   "id": "7f00ff08",
   "metadata": {},
   "source": [
    "![DataLakeTable](Evidence/5_data_lake_table.png)"
   ]
  },
  {
   "cell_type": "markdown",
   "id": "4dac9ddd",
   "metadata": {},
   "source": []
  },
  {
   "cell_type": "markdown",
   "id": "40df5d11",
   "metadata": {},
   "source": []
  },
  {
   "cell_type": "markdown",
   "id": "7314488f",
   "metadata": {},
   "source": [
    "<!-- ![](Evidence/.png) -->"
   ]
  },
  {
   "cell_type": "markdown",
   "id": "bd5497cd",
   "metadata": {},
   "source": [
    "# Projeto de MVP: Análise de Atrasos de Voos nos EUA (2015)\n",
    "\n",
    "Este projeto tem como objetivo construir um **pipeline de dados na nuvem** utilizando a plataforma **Databricks Community Edition**. O foco é realizar a **coleta**, **armazenamento**, **modelagem**, **carga** e **análise de dados** relacionados a **atrasos e cancelamentos de voos** nos EUA no ano de 2015.\n",
    "\n",
    "## Objetivos do Projeto\n",
    "\n",
    "O objetivo principal do projeto é analisar os fatores que afetam os **atrasos de voos** nos Estados Unidos e determinar as principais **causas** e **impactos** desses atrasos. Para isso, buscamos responder às seguintes perguntas de negócio:\n",
    "\n",
    "- Quais são os principais fatores que causam atrasos em voos nos EUA?\n",
    "- Existe uma correlação entre o clima e o atraso dos voos?\n",
    "- Quais aeroportos têm a maior taxa de cancelamentos de voos?\n",
    "\n",
    "## Estrutura do Notebook\n",
    "\n",
    "Este notebook está estruturado da seguinte forma:\n",
    "\n",
    "1. **Coleta de Dados**: O dataset utilizado é o **\"2015 Flight Delays and Cancellations\"**, obtido do **Kaggle** e carregado para o **Databricks File System (DBFS)**. O arquivo será utilizado para análise.\n",
    "   \n",
    "2. **Modelagem de Dados**: Utilizaremos o **Delta Lake** como modelo de dados, o que permitirá a manipulação eficiente dos dados em Databricks.\n",
    "   \n",
    "3. **ETL**: A transformação dos dados será realizada em uma pipeline **ETL** simples, onde dados serão limpos e preparados para análise.\n",
    "   \n",
    "4. **Análise de Dados**: Utilizaremos ferramentas como **Pandas**, **PySpark**, **Matplotlib** e **Seaborn** para realizar a análise exploratória dos dados e responder às perguntas definidas.\n",
    "\n",
    "5. **Conclusão**: Discussão sobre os resultados obtidos e próximos passos para melhorar a análise de dados.\n",
    "\n",
    "## Ferramentas Utilizadas\n",
    "\n",
    "- **Databricks Community Edition**: Plataforma de nuvem utilizada para todas as etapas do projeto.\n",
    "- **Delta Lake**: Solução para armazenamento e processamento eficiente de dados em Databricks.\n",
    "- **PySpark** e **Pandas**: Ferramentas para processamento e análise de dados.\n",
    "- **Matplotlib** e **Seaborn**: Bibliotecas para visualização de dados.\n",
    "\n",
    "\n",
    "## Acesso ao Notebook\n",
    "\n",
    "O notebook completo está disponível para visualização e execução no **Databricks Community Edition**. Para acessar e executar o código, basta importar o notebook para sua conta no Databricks.\n",
    "\n"
   ]
  }
 ],
 "metadata": {
  "language_info": {
   "name": "python"
  }
 },
 "nbformat": 4,
 "nbformat_minor": 5
}
