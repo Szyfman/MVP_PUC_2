{
 "cells": [
  {
   "cell_type": "markdown",
   "metadata": {},
   "source": [
    "# **Análise de Atrasos em Voos nos EUA**\n",
    "\n",
    "Este projeto tem como objetivo construir um pipeline de dados utilizando a plataforma Databricks e ferramentas locais como Python, Jupyter e GitHub. A proposta é investigar padrões de atrasos aéreos nos Estados Unidos a partir de um conjunto de dados público disponibilizado pelo Kaggle. \n",
    "\n",
    "A análise será orientada pelas perguntas de negócio previamente definidas no README e executada de forma documentada, com foco em atender todos os critérios de avaliação propostos no desenvolvimento do MVP.\n",
    "\n",
    "Todas as etapas do pipeline — da coleta até a análise — serão comentadas em primeira pessoa para guiar a banca avaliadora no raciocínio por trás de cada decisão.\n"
   ]
  },
  {
   "cell_type": "code",
   "execution_count": null,
   "metadata": {},
   "outputs": [],
   "source": [
    "# Importação inicial das bibliotecas essenciais para análise\n",
    "import pandas as pd\n",
    "import numpy as np\n",
    "import matplotlib.pyplot as plt\n",
    "import seaborn as sns\n",
    "\n",
    "# Configurações de exibição\n",
    "pd.set_option('display.max_columns', 100)\n",
    "sns.set(style=\"whitegrid\")\n"
   ]
  },
  {
   "cell_type": "markdown",
   "metadata": {},
   "source": [
    "## **Carregamento dos Dados**\n",
    "\n",
    "Aqui estou realizando o carregamento inicial do arquivo `flights.csv`, extraído do conjunto de dados público do Kaggle e armazenado localmente na pasta `data/`. \n",
    "\n",
    "Caso o arquivo esteja muito grande, futuramente farei uma amostragem para facilitar o desenvolvimento e execução.\n"
   ]
  },
  {
   "cell_type": "code",
   "execution_count": null,
   "metadata": {},
   "outputs": [],
   "source": [
    "# Carregando o dataset principal\n",
    "df = pd.read_csv('data/flights.csv')\n",
    "\n",
    "# Visualizando as primeiras linhas\n",
    "df.head()\n"
   ]
  },
  {
   "cell_type": "markdown",
   "metadata": {},
   "source": [
    "## **Dimensões do Conjunto de Dados e Tipos de Variáveis**\n",
    "\n",
    "Abaixo verifico a quantidade de linhas e colunas, além dos tipos de dados presentes. Isso me ajuda a entender a complexidade e possíveis etapas de tratamento necessárias.\n"
   ]
  },
  {
   "cell_type": "code",
   "execution_count": null,
   "metadata": {},
   "outputs": [],
   "source": [
    "print(f\"Número de linhas: {df.shape[0]}\")\n",
    "print(f\"Número de colunas: {df.shape[1]}\")\n",
    "df.info()\n"
   ]
  }
 ],
 "metadata": {
  "kernelspec": {
   "display_name": ".venv",
   "language": "python",
   "name": "python3"
  },
  "language_info": {
   "name": "python",
   "version": "3.11.9"
  }
 },
 "nbformat": 4,
 "nbformat_minor": 2
}
